{
 "cells": [
  {
   "cell_type": "markdown",
   "metadata": {
    "id": "pG06ooCdd8_k"
   },
   "source": [
    "# By OUAMBA Fred Harisson"
   ]
  },
  {
   "cell_type": "code",
   "execution_count": 56,
   "metadata": {
    "id": "J0T59l5cd8_r"
   },
   "outputs": [],
   "source": [
    "#Importation des bibliothèques\n",
    "import pandas as pd"
   ]
  },
  {
   "cell_type": "code",
   "execution_count": 57,
   "metadata": {
    "colab": {
     "base_uri": "https://localhost:8080/",
     "height": 297
    },
    "id": "rSVEoRGsd8_z",
    "outputId": "edbcacf5-b9d5-4267-ca18-619ffb24ed4f"
   },
   "outputs": [
    {
     "data": {
      "text/html": [
       "<div>\n",
       "<style scoped>\n",
       "    .dataframe tbody tr th:only-of-type {\n",
       "        vertical-align: middle;\n",
       "    }\n",
       "\n",
       "    .dataframe tbody tr th {\n",
       "        vertical-align: top;\n",
       "    }\n",
       "\n",
       "    .dataframe thead th {\n",
       "        text-align: right;\n",
       "    }\n",
       "</style>\n",
       "<table border=\"1\" class=\"dataframe\">\n",
       "  <thead>\n",
       "    <tr style=\"text-align: right;\">\n",
       "      <th></th>\n",
       "      <th>Unnamed: 0</th>\n",
       "      <th>label</th>\n",
       "      <th>text</th>\n",
       "      <th>label_num</th>\n",
       "    </tr>\n",
       "  </thead>\n",
       "  <tbody>\n",
       "    <tr>\n",
       "      <th>0</th>\n",
       "      <td>605</td>\n",
       "      <td>ham</td>\n",
       "      <td>Subject: enron methanol ; meter # : 988291\\r\\n...</td>\n",
       "      <td>0</td>\n",
       "    </tr>\n",
       "    <tr>\n",
       "      <th>1</th>\n",
       "      <td>2349</td>\n",
       "      <td>ham</td>\n",
       "      <td>Subject: hpl nom for january 9 , 2001\\r\\n( see...</td>\n",
       "      <td>0</td>\n",
       "    </tr>\n",
       "    <tr>\n",
       "      <th>2</th>\n",
       "      <td>3624</td>\n",
       "      <td>ham</td>\n",
       "      <td>Subject: neon retreat\\r\\nho ho ho , we ' re ar...</td>\n",
       "      <td>0</td>\n",
       "    </tr>\n",
       "    <tr>\n",
       "      <th>3</th>\n",
       "      <td>4685</td>\n",
       "      <td>spam</td>\n",
       "      <td>Subject: photoshop , windows , office . cheap ...</td>\n",
       "      <td>1</td>\n",
       "    </tr>\n",
       "    <tr>\n",
       "      <th>4</th>\n",
       "      <td>2030</td>\n",
       "      <td>ham</td>\n",
       "      <td>Subject: re : indian springs\\r\\nthis deal is t...</td>\n",
       "      <td>0</td>\n",
       "    </tr>\n",
       "    <tr>\n",
       "      <th>5</th>\n",
       "      <td>2949</td>\n",
       "      <td>ham</td>\n",
       "      <td>Subject: ehronline web address change\\r\\nthis ...</td>\n",
       "      <td>0</td>\n",
       "    </tr>\n",
       "    <tr>\n",
       "      <th>6</th>\n",
       "      <td>2793</td>\n",
       "      <td>ham</td>\n",
       "      <td>Subject: spring savings certificate - take 30 ...</td>\n",
       "      <td>0</td>\n",
       "    </tr>\n",
       "    <tr>\n",
       "      <th>7</th>\n",
       "      <td>4185</td>\n",
       "      <td>spam</td>\n",
       "      <td>Subject: looking for medication ? we ` re the ...</td>\n",
       "      <td>1</td>\n",
       "    </tr>\n",
       "  </tbody>\n",
       "</table>\n",
       "</div>"
      ],
      "text/plain": [
       "   Unnamed: 0  ... label_num\n",
       "0         605  ...         0\n",
       "1        2349  ...         0\n",
       "2        3624  ...         0\n",
       "3        4685  ...         1\n",
       "4        2030  ...         0\n",
       "5        2949  ...         0\n",
       "6        2793  ...         0\n",
       "7        4185  ...         1\n",
       "\n",
       "[8 rows x 4 columns]"
      ]
     },
     "execution_count": 57,
     "metadata": {},
     "output_type": "execute_result"
    }
   ],
   "source": [
    "#Chargement du jeu de données\n",
    "mails = pd.read_csv(r'spam_ham_dataset.csv')\n",
    "mails.head(8)"
   ]
  },
  {
   "cell_type": "code",
   "execution_count": 58,
   "metadata": {
    "colab": {
     "base_uri": "https://localhost:8080/"
    },
    "id": "GYg0BSTAd8_5",
    "outputId": "ed01aa36-1d15-4101-d811-c30f3536dc5d"
   },
   "outputs": [
    {
     "data": {
      "text/plain": [
       "Unnamed: 0    0\n",
       "label         0\n",
       "text          0\n",
       "label_num     0\n",
       "dtype: int64"
      ]
     },
     "execution_count": 58,
     "metadata": {},
     "output_type": "execute_result"
    }
   ],
   "source": [
    "#Vérification des valeurs manquantes\n",
    "mails.isna().sum(axis = 0)"
   ]
  },
  {
   "cell_type": "code",
   "execution_count": 59,
   "metadata": {
    "id": "KlQ0QSZDd8_7"
   },
   "outputs": [],
   "source": [
    "#Suppression la colonne inutile\n",
    "mails.drop('Unnamed: 0', axis =1, inplace= True)"
   ]
  },
  {
   "cell_type": "code",
   "execution_count": 60,
   "metadata": {
    "id": "yeMmB9nzd8_9"
   },
   "outputs": [],
   "source": [
    "#Objet/Modèle permettant de construire le vocabulaire\n",
    "from sklearn.feature_extraction.text import CountVectorizer\n",
    "\n",
    "vectorizer = CountVectorizer(stop_words='english', analyzer='word')"
   ]
  },
  {
   "cell_type": "code",
   "execution_count": 61,
   "metadata": {
    "id": "t8QOQzwDd8__"
   },
   "outputs": [],
   "source": [
    "#Calcul des inputs et labels\n",
    "X = mails.loc[:,'text']\n",
    "y = mails.loc[:,'label_num']"
   ]
  },
  {
   "cell_type": "code",
   "execution_count": 62,
   "metadata": {
    "id": "o-UiKzkBd9AA"
   },
   "outputs": [],
   "source": [
    "#Découpage du dataset en données d'entrainement et de test\n",
    "from sklearn.model_selection import train_test_split\n",
    "\n",
    "X_train, X_test, y_train, y_test = train_test_split(X,y, test_size=0.15, random_state= 20)"
   ]
  },
  {
   "cell_type": "code",
   "execution_count": 63,
   "metadata": {
    "colab": {
     "base_uri": "https://localhost:8080/"
    },
    "id": "eeZ30e5Gd9AD",
    "outputId": "923f2831-6e18-4749-8ca9-cb6b1368f86a"
   },
   "outputs": [
    {
     "name": "stdout",
     "output_type": "stream",
     "text": [
      "47173\n"
     ]
    }
   ],
   "source": [
    "#Construction du vocabulaire\n",
    "vectorizer.fit(X_train)\n",
    "print(len(vectorizer.get_feature_names()))"
   ]
  },
  {
   "cell_type": "code",
   "execution_count": 64,
   "metadata": {
    "colab": {
     "base_uri": "https://localhost:8080/"
    },
    "id": "6W-GKyfkd9AF",
    "outputId": "a6dc1289-a0ee-455c-836d-0775532c4b07"
   },
   "outputs": [
    {
     "data": {
      "text/plain": [
       "array([[7, 0, 0, ..., 0, 0, 0],\n",
       "       [0, 0, 0, ..., 0, 0, 0],\n",
       "       [0, 0, 0, ..., 0, 0, 0],\n",
       "       ...,\n",
       "       [0, 0, 0, ..., 0, 0, 0],\n",
       "       [0, 0, 0, ..., 0, 0, 0],\n",
       "       [0, 0, 0, ..., 0, 0, 0]])"
      ]
     },
     "execution_count": 64,
     "metadata": {},
     "output_type": "execute_result"
    }
   ],
   "source": [
    "#Calcul de la matrice des données basée sur le vocabulaire\n",
    "X_train2 = vectorizer.transform(X_train)\n",
    "X_train2.toarray()"
   ]
  },
  {
   "cell_type": "code",
   "execution_count": 65,
   "metadata": {
    "colab": {
     "base_uri": "https://localhost:8080/"
    },
    "id": "WKJYqu8Jd9AG",
    "outputId": "d0846817-f3d5-44b0-a181-28ffaafd8de8"
   },
   "outputs": [
    {
     "data": {
      "text/plain": [
       "GridSearchCV(cv=4, error_score=nan,\n",
       "             estimator=LogisticRegression(C=1.0, class_weight=None, dual=False,\n",
       "                                          fit_intercept=True,\n",
       "                                          intercept_scaling=1, l1_ratio=None,\n",
       "                                          max_iter=100, multi_class='auto',\n",
       "                                          n_jobs=None, penalty='l2',\n",
       "                                          random_state=None, solver='lbfgs',\n",
       "                                          tol=0.0001, verbose=0,\n",
       "                                          warm_start=False),\n",
       "             iid='deprecated', n_jobs=None,\n",
       "             param_grid={'C': [1.0, 2.0, 3.0], 'penalty': ['l2'],\n",
       "                         'solver': ['lbfgs', 'liblinear']},\n",
       "             pre_dispatch='2*n_jobs', refit=True, return_train_score=False,\n",
       "             scoring=None, verbose=0)"
      ]
     },
     "execution_count": 65,
     "metadata": {},
     "output_type": "execute_result"
    }
   ],
   "source": [
    "#Construction d'un GridSearch pour construire le meilleur modèle de régression logistique\n",
    "from sklearn.model_selection import GridSearchCV\n",
    "from sklearn.linear_model import LogisticRegression\n",
    "\n",
    "params = {\n",
    "    \"C\" : [1.0,2.0,3.0],\n",
    "    \"penalty\": [\"l2\"],\n",
    "    \"solver\": [\"lbfgs\",\"liblinear\"]\n",
    "}\n",
    "lr = LogisticRegression()\n",
    "gs = GridSearchCV(lr, params, cv=4)\n",
    "gs.fit(X_train2, y_train)"
   ]
  },
  {
   "cell_type": "code",
   "execution_count": 66,
   "metadata": {
    "colab": {
     "base_uri": "https://localhost:8080/"
    },
    "id": "pNkDACRfhCvh",
    "outputId": "a9b49f5c-dff7-4bd7-f60f-3f3f06e23ce5"
   },
   "outputs": [
    {
     "data": {
      "text/plain": [
       "LogisticRegression(C=1.0, class_weight=None, dual=False, fit_intercept=True,\n",
       "                   intercept_scaling=1, l1_ratio=None, max_iter=100,\n",
       "                   multi_class='auto', n_jobs=None, penalty='l2',\n",
       "                   random_state=None, solver='liblinear', tol=0.0001, verbose=0,\n",
       "                   warm_start=False)"
      ]
     },
     "execution_count": 66,
     "metadata": {},
     "output_type": "execute_result"
    }
   ],
   "source": [
    "#Construction du modèle de régression logistique optimal\n",
    "lr= LogisticRegression(C=1.0, penalty =\"l2\", solver=\"liblinear\")\n",
    "lr.fit(X_train2,y_train)"
   ]
  },
  {
   "cell_type": "code",
   "execution_count": 67,
   "metadata": {
    "colab": {
     "base_uri": "https://localhost:8080/"
    },
    "id": "pF2tTHTejlNh",
    "outputId": "2a64fb07-1dab-4e51-a9f3-8d469e6c1b42"
   },
   "outputs": [
    {
     "name": "stdout",
     "output_type": "stream",
     "text": [
      "Score sur les données d'entrainement: 0.9995449374288965\n"
     ]
    }
   ],
   "source": [
    "#Calcul de la précision sur les données d'entrainement\n",
    "sc1 = lr.score(X_train2,y_train)\n",
    "print(\"Score sur les données d'entrainement:\",sc1)"
   ]
  },
  {
   "cell_type": "code",
   "execution_count": 68,
   "metadata": {
    "colab": {
     "base_uri": "https://localhost:8080/"
    },
    "id": "i1fvV7Kvk5IE",
    "outputId": "6abaecaa-bcb0-4a49-804f-b6e09cf33060"
   },
   "outputs": [
    {
     "name": "stdout",
     "output_type": "stream",
     "text": [
      "Score sur les données d'entrainement: 0.9832474226804123\n"
     ]
    }
   ],
   "source": [
    "#Calcul de la précision sur les données de test\n",
    "X_test2 = vectorizer.transform(X_test)\n",
    "sc2 = lr.score(X_test2, y_test)\n",
    "print(\"Score sur les données d'entrainement:\",sc2)"
   ]
  },
  {
   "cell_type": "code",
   "execution_count": 69,
   "metadata": {
    "id": "MMEhEvEYmNgB"
   },
   "outputs": [],
   "source": [
    "def class_spam_function(cv : CountVectorizer, lr : LogisticRegression, mail: str):\n",
    "  mail2 = cv.transform([mail])\n",
    "  lab = lr.predict(mail2)\n",
    "  print(\"Spam\" if lab is 1 else \"Non Spam\")"
   ]
  },
  {
   "cell_type": "code",
   "execution_count": 70,
   "metadata": {
    "colab": {
     "base_uri": "https://localhost:8080/"
    },
    "id": "p_C7cuStHdjf",
    "outputId": "08abd5e8-707e-4c64-b8d5-02e37e8b15d0"
   },
   "outputs": [
    {
     "name": "stdout",
     "output_type": "stream",
     "text": [
      "Non Spam\n"
     ]
    }
   ],
   "source": [
    "mail =\"Date: Fri, 29 Oct 2021 17:40:26 +0100 \\n From: Marianna Jenkins <1n4fs0j6oal@gmx.com> \\n Subject: Re: Hi Fred \\nThread-Topic: Hi Fred \\n Message-ID: \\n <trinity-87a6c4f5-4a9b-4e44-9633-5515032a923a-1635525625432@3c-app-mailcom-bs06> \\n To: \\\"harissonfred2@gmail.com\\\" <harissonfred2@gmail.com> \\n Content-Transfer-Encoding: quoted-printable \\n Content-Type: text/html; charset=\\\"utf-8\\\"\"\n",
    "class_spam_function(vectorizer, lr, mail)"
   ]
  },
  {
   "cell_type": "code",
   "execution_count": 71,
   "metadata": {
    "id": "FyKB4xoPIUMW"
   },
   "outputs": [],
   "source": [
    "#A la base, c'est un mail spam que j'ai pris dans ma boite.\n",
    "#Le résultat obtenu prouve que le dataset est assez bon et qu'il\n",
    "#pourrait servir de généralité"
   ]
  },
  {
   "cell_type": "code",
   "execution_count": 53,
   "metadata": {
    "id": "SlxjWkL4M0Cv"
   },
   "outputs": [],
   "source": [
    "import pickle\n",
    "pickle.dump(vectorizer,open(\"Cvmodel.sav\",'wb'))\n"
   ]
  }
 ],
 "metadata": {
  "colab": {
   "collapsed_sections": [],
   "name": "TP3- NLP.ipynb",
   "provenance": []
  },
  "interpreter": {
   "hash": "825893eda577408078809c25d9ed95f592e592429a99ce56af90a73b72386c66"
  },
  "kernelspec": {
   "display_name": "Python 3",
   "language": "python",
   "name": "python3"
  },
  "language_info": {
   "codemirror_mode": {
    "name": "ipython",
    "version": 3
   },
   "file_extension": ".py",
   "mimetype": "text/x-python",
   "name": "python",
   "nbconvert_exporter": "python",
   "pygments_lexer": "ipython3",
   "version": "3.7.0"
  }
 },
 "nbformat": 4,
 "nbformat_minor": 1
}
